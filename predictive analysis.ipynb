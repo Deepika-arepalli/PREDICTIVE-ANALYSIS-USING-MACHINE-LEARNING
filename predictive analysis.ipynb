import pandas as pd
from sklearn.model_selection import train_test_split
from sklearn.preprocessing import StandardScaler, OneHotEncoder
from sklearn.compose import ColumnTransformer
from sklearn.pipeline import Pipeline
from sklearn.linear_model import LinearRegression
from sklearn.metrics import mean_squared_error, r2_score
import numpy as np

data = {
    'square_feet': [1500, 2000, 1200, 2500, 1800, 3000, 1650, 2200, 1300, 2700],
    'bedrooms': [3, 4, 2, 4, 3, 5, 3, 4, 2, 4],
    'bathrooms': [2, 3, 1.5, 3, 2.5, 4, 2, 3, 1, 3.5],
    'lot_size': [5000, 6500, 4000, 7500, 5500, 8000, 5200, 7000, 4500, 9000],
    'age': [20, 15, 30, 10, 25, 5, 18, 12, 35, 8],
    'neighborhood': ['A', 'B', 'A', 'C', 'B', 'C', 'A', 'B', 'A', 'C'],
    'sale_price': [300000, 450000, 250000, 600000, 380000, 750000, 320000, 500000, 280000, 680000]
}
df = pd.DataFrame(data)

print(df.head())
print(df.info())

print(df.corr(numeric_only=True)['sale_price'].sort_values(ascending=False))


X = df.drop('sale_price', axis=1)
y = df['sale_price']
numerical_features = ['square_feet', 'bedrooms', 'bathrooms', 'lot_size', 'age']
categorical_features = ['neighborhood']


preprocessor = ColumnTransformer(
    transformers=[
        ('num', StandardScaler(), numerical_features),
        ('cat', OneHotEncoder(), categorical_features)
    ])

X_train, X_test, y_train, y_test = train_test_split(X, y, test_size=0.2, random_state=42)
print("Training set size:", X_train.shape)
print("Testing set size:", X_test.shape)

model = Pipeline(steps=[
    ('preprocessor', preprocessor),
    ('regressor', LinearRegression())
])

model.fit(X_train, y_train)

print("Model training complete.")

y_pred = model.predict(X_test)


mse = mean_squared_error(y_test, y_pred)
rmse = np.sqrt(mse) # Root Mean Squared Error
r2 = r2_score(y_test, y_pred)
print(f"Mean Squared Error (MSE): {mse:.2f}")
print(f"Root Mean Squared Error (RMSE): {rmse:.2f}")
print(f"R-squared (R2) score: {r2:.2f}")

new_house = pd.DataFrame([{
    'square_feet': 2100,
    'bedrooms': 4,
    'bathrooms': 3,
    'lot_size': 6800,
    'age': 10,
    'neighborhood': 'B'
}])

predicted_price = model.predict(new_house)[0]
print(f"\nPredicted price for a new house: ${predicted_price:,.2f}")
